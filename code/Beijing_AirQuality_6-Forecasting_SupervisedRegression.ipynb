{
 "cells": [
  {
   "cell_type": "markdown",
   "metadata": {},
   "source": [
    "###  Import"
   ]
  },
  {
   "cell_type": "code",
   "execution_count": 4,
   "metadata": {},
   "outputs": [],
   "source": [
    "# Import libraries\n",
    "import pandas as pd\n",
    "import numpy as np\n",
    "import matplotlib.pyplot as plt\n",
    "from datetime import datetime, date\n",
    "from time import time\n",
    "from IPython.core.interactiveshell import InteractiveShell\n",
    "InteractiveShell.ast_node_interactivity = \"all\" \n",
    "\n",
    "import matplotlib.pyplot as plt\n",
    "%matplotlib inline \n",
    "import seaborn as sns\n",
    "sns.set()\n",
    "\n",
    "# supervised learning\n",
    "from sklearn.model_selection import train_test_split, GridSearchCV\n",
    "from sklearn.preprocessing import scale\n",
    "from sklearn.externals import joblib\n",
    "from sklearn.metrics import r2_score, mean_squared_error, mean_absolute_error, explained_variance_score   \n",
    "from sklearn.linear_model import LinearRegression, SGDRegressor\n",
    "from sklearn.neighbors import KNeighborsRegressor\n",
    "from sklearn.tree import DecisionTreeRegressor\n",
    "from sklearn.ensemble import RandomForestRegressor\n",
    "from sklearn.neural_network import MLPRegressor"
   ]
  },
  {
   "cell_type": "code",
   "execution_count": 2,
   "metadata": {},
   "outputs": [
    {
     "data": {
      "text/html": [
       "<div>\n",
       "<style scoped>\n",
       "    .dataframe tbody tr th:only-of-type {\n",
       "        vertical-align: middle;\n",
       "    }\n",
       "\n",
       "    .dataframe tbody tr th {\n",
       "        vertical-align: top;\n",
       "    }\n",
       "\n",
       "    .dataframe thead th {\n",
       "        text-align: right;\n",
       "    }\n",
       "</style>\n",
       "<table border=\"1\" class=\"dataframe\">\n",
       "  <thead>\n",
       "    <tr style=\"text-align: right;\">\n",
       "      <th></th>\n",
       "      <th>pm25</th>\n",
       "      <th>dewp</th>\n",
       "      <th>temp</th>\n",
       "      <th>pres</th>\n",
       "      <th>wind_speed</th>\n",
       "      <th>snow_hours</th>\n",
       "      <th>rain_hours</th>\n",
       "    </tr>\n",
       "    <tr>\n",
       "      <th>date</th>\n",
       "      <th></th>\n",
       "      <th></th>\n",
       "      <th></th>\n",
       "      <th></th>\n",
       "      <th></th>\n",
       "      <th></th>\n",
       "      <th></th>\n",
       "    </tr>\n",
       "  </thead>\n",
       "  <tbody>\n",
       "    <tr>\n",
       "      <th>2010-01-02 00:00:00</th>\n",
       "      <td>129.0</td>\n",
       "      <td>-16</td>\n",
       "      <td>-4.0</td>\n",
       "      <td>1020.0</td>\n",
       "      <td>1.79</td>\n",
       "      <td>0</td>\n",
       "      <td>0</td>\n",
       "    </tr>\n",
       "    <tr>\n",
       "      <th>2010-01-02 01:00:00</th>\n",
       "      <td>148.0</td>\n",
       "      <td>-15</td>\n",
       "      <td>-4.0</td>\n",
       "      <td>1020.0</td>\n",
       "      <td>2.68</td>\n",
       "      <td>0</td>\n",
       "      <td>0</td>\n",
       "    </tr>\n",
       "    <tr>\n",
       "      <th>2010-01-02 02:00:00</th>\n",
       "      <td>159.0</td>\n",
       "      <td>-11</td>\n",
       "      <td>-5.0</td>\n",
       "      <td>1021.0</td>\n",
       "      <td>3.57</td>\n",
       "      <td>0</td>\n",
       "      <td>0</td>\n",
       "    </tr>\n",
       "    <tr>\n",
       "      <th>2010-01-02 03:00:00</th>\n",
       "      <td>181.0</td>\n",
       "      <td>-7</td>\n",
       "      <td>-5.0</td>\n",
       "      <td>1022.0</td>\n",
       "      <td>5.36</td>\n",
       "      <td>1</td>\n",
       "      <td>0</td>\n",
       "    </tr>\n",
       "    <tr>\n",
       "      <th>2010-01-02 04:00:00</th>\n",
       "      <td>138.0</td>\n",
       "      <td>-7</td>\n",
       "      <td>-5.0</td>\n",
       "      <td>1022.0</td>\n",
       "      <td>6.25</td>\n",
       "      <td>2</td>\n",
       "      <td>0</td>\n",
       "    </tr>\n",
       "  </tbody>\n",
       "</table>\n",
       "</div>"
      ],
      "text/plain": [
       "                      pm25  dewp  temp    pres  wind_speed  snow_hours  \\\n",
       "date                                                                     \n",
       "2010-01-02 00:00:00  129.0   -16  -4.0  1020.0        1.79           0   \n",
       "2010-01-02 01:00:00  148.0   -15  -4.0  1020.0        2.68           0   \n",
       "2010-01-02 02:00:00  159.0   -11  -5.0  1021.0        3.57           0   \n",
       "2010-01-02 03:00:00  181.0    -7  -5.0  1022.0        5.36           1   \n",
       "2010-01-02 04:00:00  138.0    -7  -5.0  1022.0        6.25           2   \n",
       "\n",
       "                     rain_hours  \n",
       "date                             \n",
       "2010-01-02 00:00:00           0  \n",
       "2010-01-02 01:00:00           0  \n",
       "2010-01-02 02:00:00           0  \n",
       "2010-01-02 03:00:00           0  \n",
       "2010-01-02 04:00:00           0  "
      ]
     },
     "execution_count": 2,
     "metadata": {},
     "output_type": "execute_result"
    }
   ],
   "source": [
    "# Import cleaned dataset\n",
    "df = pd.read_csv('persistence/cleaned_data_2018-06-19.csv', parse_dates=True, index_col='date')\n",
    "df.head()"
   ]
  },
  {
   "cell_type": "markdown",
   "metadata": {},
   "source": [
    "### Supervised Learning "
   ]
  },
  {
   "cell_type": "code",
   "execution_count": 5,
   "metadata": {},
   "outputs": [],
   "source": [
    "# Prepare lag features out to 24-hours\n",
    "df['pm25_lag1'] = df['pm25'].diff(periods=-1)\n",
    "df['pm25_lag2'] = df['pm25'].diff(periods=-2)\n",
    "df['pm25_lag3'] = df['pm25'].diff(periods=-3)\n",
    "df['pm25_lag4'] = df['pm25'].diff(periods=-4)\n",
    "df['pm25_lag5'] = df['pm25'].diff(periods=-5)\n",
    "df['pm25_lag6'] = df['pm25'].diff(periods=-6)\n",
    "df['pm25_lag7'] = df['pm25'].diff(periods=-7)\n",
    "df['pm25_lag8'] = df['pm25'].diff(periods=-8)\n",
    "df['pm25_lag9'] = df['pm25'].diff(periods=-9)\n",
    "df['pm25_lag10'] = df['pm25'].diff(periods=-10)\n",
    "df['pm25_lag11'] = df['pm25'].diff(periods=-11)\n",
    "df['pm25_lag12'] = df['pm25'].diff(periods=-12)\n",
    "df['pm25_lag13'] = df['pm25'].diff(periods=-13)\n",
    "df['pm25_lag14'] = df['pm25'].diff(periods=-14)\n",
    "df['pm25_lag15'] = df['pm25'].diff(periods=-15)\n",
    "df['pm25_lag16'] = df['pm25'].diff(periods=-16)\n",
    "df['pm25_lag17'] = df['pm25'].diff(periods=-17)\n",
    "df['pm25_lag18'] = df['pm25'].diff(periods=-18)\n",
    "df['pm25_lag19'] = df['pm25'].diff(periods=-19)\n",
    "df['pm25_lag20'] = df['pm25'].diff(periods=-20)\n",
    "df['pm25_lag21'] = df['pm25'].diff(periods=-21)\n",
    "df['pm25_lag22'] = df['pm25'].diff(periods=-22)\n",
    "df['pm25_lag23'] = df['pm25'].diff(periods=-23)\n",
    "df['pm25_lag24'] = df['pm25'].diff(periods=-24)\n",
    "\n",
    "# Remove index \n",
    "df.reset_index(drop=True, inplace=True)\n",
    "\n",
    "# Assign X and y\n",
    "y = df['pm25'].iloc[:-24]\n",
    "X = df.drop(['pm25'], axis=1).iloc[:-24]\n",
    "\n",
    "# Standardize the data\n",
    "Xscaled = scale(X)\n",
    "\n",
    "# Train-test split\n",
    "X_train, X_test, y_train, y_test = train_test_split(Xscaled, y, train_size=0.7, random_state=42)\n",
    "# ###If we must retain the temporal order of the obs...\n",
    "# train_size = int(len(Xscaled) * 0.77)\n",
    "# X_train, X_test, = Xscaled[0:train_size], Xscaled[train_size:len(Xscaled)]\n",
    "# y_train, y_test = y[0:train_size], y[train_size:len(y)]"
   ]
  },
  {
   "cell_type": "markdown",
   "metadata": {},
   "source": [
    "- Consider including lags out to 1 month or 1 year.\n",
    "- Consider including lags of the other variables."
   ]
  },
  {
   "cell_type": "markdown",
   "metadata": {},
   "source": [
    "Note: We cannot use standard k-fold cross-validation because it assumes each ob is independent, which doesn't hold for time series data. \n",
    "\n",
    "Instead, we will use a similar process that respects the temporal order of the obs, by evaluating model performance on historical data.\n",
    "This process is called *backtesting* or *hindcasting*."
   ]
  },
  {
   "cell_type": "markdown",
   "metadata": {},
   "source": [
    "** Linear Regressor**"
   ]
  },
  {
   "cell_type": "code",
   "execution_count": 40,
   "metadata": {},
   "outputs": [
    {
     "data": {
      "text/plain": [
       "LinearRegression(copy_X=True, fit_intercept=True, n_jobs=1, normalize=False)"
      ]
     },
     "execution_count": 40,
     "metadata": {},
     "output_type": "execute_result"
    },
    {
     "name": "stdout",
     "output_type": "stream",
     "text": [
      "Linear Regression\n",
      "==================\n",
      "R2: 0.475986126994\n",
      "MSE: 4354.917064\n",
      "MAE: 49.2282224925\n",
      "Explained Variance: 0.476044883489\n"
     ]
    }
   ],
   "source": [
    "# Instantiate\n",
    "linreg = LinearRegression(fit_intercept=True, copy_X=True)\n",
    "\n",
    "# Fit\n",
    "linreg.fit(X_train, y_train)\n",
    "\n",
    "# Predict\n",
    "ypred_linreg = linreg.predict(X_test)\n",
    "\n",
    "# Performance Metrics\n",
    "print('Linear Regression')\n",
    "print('==================')\n",
    "print('R2:',r2_score(y_test, ypred_linreg))\n",
    "print('MSE:',mean_squared_error(y_test, ypred_linreg))\n",
    "print('MAE:',mean_absolute_error(y_test, ypred_linreg))\n",
    "print('Explained Variance:',explained_variance_score(y_test, ypred_linreg))"
   ]
  },
  {
   "cell_type": "code",
   "execution_count": 74,
   "metadata": {},
   "outputs": [
    {
     "data": {
      "text/plain": [
       "(12520,)"
      ]
     },
     "execution_count": 74,
     "metadata": {},
     "output_type": "execute_result"
    }
   ],
   "source": [
    "y_test.shape"
   ]
  },
  {
   "cell_type": "code",
   "execution_count": 87,
   "metadata": {},
   "outputs": [
    {
     "name": "stdout",
     "output_type": "stream",
     "text": [
      "Forecast Bias: -0.6987896956214985\n"
     ]
    },
    {
     "data": {
      "image/png": "[encoded data removed]",
      "text/plain": [
       "<matplotlib.figure.Figure at 0x127a34ef0>"
      ]
     },
     "metadata": {},
     "output_type": "display_data"
    }
   ],
   "source": [
    "forecast_errors_linreg = y_test - ypred_linreg;\n",
    "mean_forecast_error_linreg = np.mean(forecast_errors_linreg)\n",
    "print('Forecast Bias: %s' %mean_forecast_error_linreg)\n",
    "\n",
    "y_test.plot(linestyle='none', marker='.')\n",
    "pd.Series(ypred_linreg).plot(linestyle='none', marker='.', color='r');"
   ]
  },
  {
   "cell_type": "markdown",
   "metadata": {},
   "source": [
    "** KNN Regressor **"
   ]
  },
  {
   "cell_type": "code",
   "execution_count": 7,
   "metadata": {},
   "outputs": [
    {
     "data": {
      "text/plain": [
       "KNeighborsRegressor(algorithm='auto', leaf_size=30, metric='minkowski',\n",
       "          metric_params=None, n_jobs=1, n_neighbors=5, p=2,\n",
       "          weights='uniform')"
      ]
     },
     "execution_count": 7,
     "metadata": {},
     "output_type": "execute_result"
    },
    {
     "name": "stdout",
     "output_type": "stream",
     "text": [
      "KNN Regressor\n",
      "==============\n",
      "R2: 0.706855272024\n",
      "MSE: 2436.23507668\n",
      "MAE: 28.9519329073\n",
      "Explained Variance: 0.72813872965\n"
     ]
    }
   ],
   "source": [
    "# Instantiate\n",
    "knnr = KNeighborsRegressor()\n",
    "\n",
    "# Fit\n",
    "knnr.fit(X_train, y_train)\n",
    "\n",
    "# Predict\n",
    "ypred_knnr = knnr.predict(X_test)\n",
    "\n",
    "# Performance Metrics\n",
    "print('KNN Regressor')\n",
    "print('==============')\n",
    "print('R2:',r2_score(y_test, ypred_knnr))\n",
    "print('MSE:',mean_squared_error(y_test, ypred_knnr))\n",
    "print('MAE:',mean_absolute_error(y_test, ypred_knnr))\n",
    "print('Explained Variance:',explained_variance_score(y_test, ypred_knnr))"
   ]
  },
  {
   "cell_type": "code",
   "execution_count": 88,
   "metadata": {},
   "outputs": [
    {
     "name": "stdout",
     "output_type": "stream",
     "text": [
      "Forecast Bias: 13.299632587859453\n"
     ]
    }
   ],
   "source": [
    "forecast_errors_knnr = y_test - ypred_knnr;\n",
    "mean_forecast_error_knnr = np.mean(forecast_errors_knnr)\n",
    "print('Forecast Bias: %s' %mean_forecast_error_knnr)"
   ]
  },
  {
   "cell_type": "markdown",
   "metadata": {},
   "source": [
    "** Gradient Descent Regressor **"
   ]
  },
  {
   "cell_type": "code",
   "execution_count": 8,
   "metadata": {},
   "outputs": [
    {
     "data": {
      "text/plain": [
       "SGDRegressor(alpha=0.0001, average=False, epsilon=0.1, eta0=0.01,\n",
       "       fit_intercept=True, l1_ratio=0.15, learning_rate='invscaling',\n",
       "       loss='squared_loss', n_iter=5, penalty='l2', power_t=0.25,\n",
       "       random_state=None, shuffle=True, verbose=0, warm_start=False)"
      ]
     },
     "execution_count": 8,
     "metadata": {},
     "output_type": "execute_result"
    },
    {
     "name": "stdout",
     "output_type": "stream",
     "text": [
      "Stochastic Gradient Descent Regressor\n",
      "======================================\n",
      "R2: 0.468310026543\n",
      "MSE: 4418.71075833\n",
      "MAE: 49.5187518745\n",
      "Explained Variance: 0.468372937494\n"
     ]
    }
   ],
   "source": [
    "# Instantiate\n",
    "sgd = SGDRegressor()\n",
    "\n",
    "# Fit\n",
    "sgd.fit(X_train, y_train)\n",
    "\n",
    "# Predict\n",
    "ypred_sgd = sgd.predict(X_test)\n",
    "\n",
    "# Performance Metrics\n",
    "print('Stochastic Gradient Descent Regressor')\n",
    "print('======================================')\n",
    "print('R2:',r2_score(y_test, ypred_sgd))\n",
    "print('MSE:',mean_squared_error(y_test, ypred_sgd))\n",
    "print('MAE:',mean_absolute_error(y_test, ypred_sgd))\n",
    "print('Explained Variance:',explained_variance_score(y_test, ypred_sgd))"
   ]
  },
  {
   "cell_type": "code",
   "execution_count": 89,
   "metadata": {},
   "outputs": [
    {
     "name": "stdout",
     "output_type": "stream",
     "text": [
      "Forecast Bias: -0.7230722225629286\n"
     ]
    }
   ],
   "source": [
    "forecast_errors_sgd = y_test - ypred_sgd;\n",
    "mean_forecast_error_sgd = np.mean(forecast_errors_sgd)\n",
    "print('Forecast Bias: %s' %mean_forecast_error_sgd)"
   ]
  },
  {
   "cell_type": "markdown",
   "metadata": {},
   "source": [
    "** Decision Tree **"
   ]
  },
  {
   "cell_type": "code",
   "execution_count": 9,
   "metadata": {},
   "outputs": [
    {
     "data": {
      "text/plain": [
       "DecisionTreeRegressor(criterion='mse', max_depth=None, max_features=None,\n",
       "           max_leaf_nodes=None, min_impurity_split=1e-07,\n",
       "           min_samples_leaf=1, min_samples_split=2,\n",
       "           min_weight_fraction_leaf=0.0, presort=False, random_state=None,\n",
       "           splitter='best')"
      ]
     },
     "execution_count": 9,
     "metadata": {},
     "output_type": "execute_result"
    },
    {
     "name": "stdout",
     "output_type": "stream",
     "text": [
      "Decision Tree Regressor\n",
      "========================\n",
      "R2: 0.570164611866\n",
      "MSE: 3572.22883387\n",
      "MAE: 35.100399361\n",
      "Explained Variance: 0.570167129491\n"
     ]
    }
   ],
   "source": [
    "# Instantiate\n",
    "dtr = DecisionTreeRegressor()\n",
    "\n",
    "# Fit\n",
    "dtr.fit(X_train, y_train)\n",
    "\n",
    "# Predict\n",
    "ypred_dtr = dtr.predict(X_test)\n",
    "\n",
    "# Performance Metrics\n",
    "print('Decision Tree Regressor')\n",
    "print('========================')\n",
    "print('R2:',r2_score(y_test, ypred_dtr))\n",
    "print('MSE:',mean_squared_error(y_test, ypred_dtr))\n",
    "print('MAE:',mean_absolute_error(y_test, ypred_dtr))\n",
    "print('Explained Variance:',explained_variance_score(y_test, ypred_dtr))"
   ]
  },
  {
   "cell_type": "code",
   "execution_count": 90,
   "metadata": {},
   "outputs": [
    {
     "name": "stdout",
     "output_type": "stream",
     "text": [
      "Forecast Bias: 0.1446485623003195\n"
     ]
    }
   ],
   "source": [
    "forecast_errors_dtr = y_test - ypred_dtr;\n",
    "mean_forecast_error_dtr = np.mean(forecast_errors_dtr)\n",
    "print('Forecast Bias: %s' %mean_forecast_error_dtr)"
   ]
  },
  {
   "cell_type": "markdown",
   "metadata": {},
   "source": [
    "** Random Forest **"
   ]
  },
  {
   "cell_type": "code",
   "execution_count": 10,
   "metadata": {},
   "outputs": [
    {
     "data": {
      "text/plain": [
       "RandomForestRegressor(bootstrap=True, criterion='mse', max_depth=None,\n",
       "           max_features='auto', max_leaf_nodes=None,\n",
       "           min_impurity_split=1e-07, min_samples_leaf=1,\n",
       "           min_samples_split=2, min_weight_fraction_leaf=0.0,\n",
       "           n_estimators=10, n_jobs=1, oob_score=False, random_state=42,\n",
       "           verbose=0, warm_start=False)"
      ]
     },
     "execution_count": 10,
     "metadata": {},
     "output_type": "execute_result"
    },
    {
     "name": "stdout",
     "output_type": "stream",
     "text": [
      "Random Forest Regressor\n",
      "========================\n",
      "R2: 0.77424473003\n",
      "MSE: 1876.18215495\n",
      "MAE: 26.5623322684\n",
      "Explained Variance: 0.774261120393\n"
     ]
    }
   ],
   "source": [
    "# Instantiate\n",
    "rfr = RandomForestRegressor(random_state=42)\n",
    "\n",
    "# Fit\n",
    "rfr.fit(X_train, y_train)\n",
    "\n",
    "# Predict\n",
    "ypred_rfr = rfr.predict(X_test)\n",
    "\n",
    "# Performance Metrics\n",
    "print('Random Forest Regressor')\n",
    "print('========================')\n",
    "print('R2:',r2_score(y_test, ypred_rfr))\n",
    "print('MSE:',mean_squared_error(y_test, ypred_rfr))\n",
    "print('MAE:',mean_absolute_error(y_test, ypred_rfr))\n",
    "print('Explained Variance:',explained_variance_score(y_test, ypred_rfr))"
   ]
  },
  {
   "cell_type": "code",
   "execution_count": 91,
   "metadata": {},
   "outputs": [
    {
     "name": "stdout",
     "output_type": "stream",
     "text": [
      "Forecast Bias: -0.36907348242811483\n"
     ]
    }
   ],
   "source": [
    "forecast_errors_rfr = y_test - ypred_rfr;\n",
    "mean_forecast_error_rfr = np.mean(forecast_errors_rfr)\n",
    "print('Forecast Bias: %s' %mean_forecast_error_rfr)"
   ]
  },
  {
   "cell_type": "markdown",
   "metadata": {},
   "source": [
    "** Neural Network **"
   ]
  },
  {
   "cell_type": "code",
   "execution_count": 11,
   "metadata": {},
   "outputs": [
    {
     "name": "stderr",
     "output_type": "stream",
     "text": [
      "/Users/tami/anaconda/lib/python3.6/site-packages/sklearn/neural_network/multilayer_perceptron.py:563: ConvergenceWarning: Stochastic Optimizer: Maximum iterations reached and the optimization hasn't converged yet.\n",
      "  % (), ConvergenceWarning)\n"
     ]
    },
    {
     "data": {
      "text/plain": [
       "MLPRegressor(activation='relu', alpha=0.0001, batch_size='auto', beta_1=0.9,\n",
       "       beta_2=0.999, early_stopping=False, epsilon=1e-08,\n",
       "       hidden_layer_sizes=(100,), learning_rate='constant',\n",
       "       learning_rate_init=0.001, max_iter=200, momentum=0.9,\n",
       "       nesterovs_momentum=True, power_t=0.5, random_state=None,\n",
       "       shuffle=True, solver='adam', tol=0.0001, validation_fraction=0.1,\n",
       "       verbose=False, warm_start=False)"
      ]
     },
     "execution_count": 11,
     "metadata": {},
     "output_type": "execute_result"
    },
    {
     "name": "stdout",
     "output_type": "stream",
     "text": [
      "Neural Network (Multi-Layer Perceptron) Regressor\n",
      "=================================================\n",
      "R2: 0.743876403173\n",
      "MSE: 2128.56391743\n",
      "MAE: 30.6135218604\n",
      "Explained Variance: 0.743927183135\n"
     ]
    }
   ],
   "source": [
    "# Instantiate\n",
    "nnr = MLPRegressor()\n",
    "\n",
    "# Fit\n",
    "nnr.fit(X_train, y_train)\n",
    "\n",
    "# Predict\n",
    "ypred_nnr = nnr.predict(X_test)\n",
    "\n",
    "# Performance Metrics\n",
    "print('Neural Network (Multi-Layer Perceptron) Regressor')\n",
    "print('=================================================')\n",
    "print('R2:',r2_score(y_test, ypred_nnr))\n",
    "print('MSE:',mean_squared_error(y_test, ypred_nnr))\n",
    "print('MAE:',mean_absolute_error(y_test, ypred_nnr))\n",
    "print('Explained Variance:',explained_variance_score(y_test, ypred_nnr))"
   ]
  },
  {
   "cell_type": "code",
   "execution_count": 92,
   "metadata": {},
   "outputs": [
    {
     "name": "stdout",
     "output_type": "stream",
     "text": [
      "Forecast Bias: -0.649628005215178\n"
     ]
    }
   ],
   "source": [
    "forecast_errors_nnr = y_test - ypred_nnr;\n",
    "mean_forecast_error_nnr = np.mean(forecast_errors_nnr)\n",
    "print('Forecast Bias: %s' %mean_forecast_error_nnr)"
   ]
  },
  {
   "cell_type": "markdown",
   "metadata": {},
   "source": [
    "#### Evaluation"
   ]
  },
  {
   "cell_type": "code",
   "execution_count": 96,
   "metadata": {},
   "outputs": [
    {
     "data": {
      "text/html": [
       "<div>\n",
       "<style scoped>\n",
       "    .dataframe tbody tr th:only-of-type {\n",
       "        vertical-align: middle;\n",
       "    }\n",
       "\n",
       "    .dataframe tbody tr th {\n",
       "        vertical-align: top;\n",
       "    }\n",
       "\n",
       "    .dataframe thead th {\n",
       "        text-align: right;\n",
       "    }\n",
       "</style>\n",
       "<table border=\"1\" class=\"dataframe\">\n",
       "  <thead>\n",
       "    <tr style=\"text-align: right;\">\n",
       "      <th></th>\n",
       "      <th>Explained Variance</th>\n",
       "      <th>Mean Squared Error</th>\n",
       "      <th>Mean Forecast Error</th>\n",
       "    </tr>\n",
       "  </thead>\n",
       "  <tbody>\n",
       "    <tr>\n",
       "      <th>Random Forest</th>\n",
       "      <td>0.774261</td>\n",
       "      <td>1876.182155</td>\n",
       "      <td>-0.369073</td>\n",
       "    </tr>\n",
       "    <tr>\n",
       "      <th>Neural Network</th>\n",
       "      <td>0.743927</td>\n",
       "      <td>2128.563917</td>\n",
       "      <td>-0.649628</td>\n",
       "    </tr>\n",
       "    <tr>\n",
       "      <th>kNN</th>\n",
       "      <td>0.728139</td>\n",
       "      <td>2436.235077</td>\n",
       "      <td>13.299633</td>\n",
       "    </tr>\n",
       "    <tr>\n",
       "      <th>Decision Tree</th>\n",
       "      <td>0.570167</td>\n",
       "      <td>3572.228834</td>\n",
       "      <td>0.144649</td>\n",
       "    </tr>\n",
       "    <tr>\n",
       "      <th>Linear Regression</th>\n",
       "      <td>0.476045</td>\n",
       "      <td>4354.917064</td>\n",
       "      <td>-0.698790</td>\n",
       "    </tr>\n",
       "    <tr>\n",
       "      <th>Gradient Descent</th>\n",
       "      <td>0.468373</td>\n",
       "      <td>4418.710758</td>\n",
       "      <td>-0.723072</td>\n",
       "    </tr>\n",
       "  </tbody>\n",
       "</table>\n",
       "</div>"
      ],
      "text/plain": [
       "                   Explained Variance  Mean Squared Error  Mean Forecast Error\n",
       "Random Forest                0.774261         1876.182155            -0.369073\n",
       "Neural Network               0.743927         2128.563917            -0.649628\n",
       "kNN                          0.728139         2436.235077            13.299633\n",
       "Decision Tree                0.570167         3572.228834             0.144649\n",
       "Linear Regression            0.476045         4354.917064            -0.698790\n",
       "Gradient Descent             0.468373         4418.710758            -0.723072"
      ]
     },
     "execution_count": 96,
     "metadata": {},
     "output_type": "execute_result"
    }
   ],
   "source": [
    "# Collect the explained_variance and MSE from each algorithm\n",
    "model_names = ['Linear Regression', 'kNN', 'Gradient Descent', 'Decision Tree', 'Random Forest', 'Neural Network']\n",
    "model_mse_scores = [mean_squared_error(y_test, ypred_linreg), mean_squared_error(y_test, ypred_knnr), mean_squared_error(y_test, ypred_sgd),\n",
    "                mean_squared_error(y_test, ypred_dtr), mean_squared_error(y_test, ypred_rfr), mean_squared_error(y_test, ypred_nnr)]\n",
    "model_evar_scores = [explained_variance_score(y_test, ypred_linreg), explained_variance_score(y_test, ypred_knnr), explained_variance_score(y_test, ypred_sgd),\n",
    "                explained_variance_score(y_test, ypred_dtr), explained_variance_score(y_test, ypred_rfr), explained_variance_score(y_test, ypred_nnr)]\n",
    "model_forecast_bias = [mean_forecast_error_linreg, mean_forecast_error_knnr, mean_forecast_error_sgd, mean_forecast_error_dtr, mean_forecast_error_rfr, mean_forecast_error_nnr]\n",
    "model_eval = pd.DataFrame(np.column_stack([model_evar_scores, model_mse_scores, model_forecast_bias]), columns=['Explained Variance', 'Mean Squared Error', 'Mean Forecast Error'], index=model_names).sort_values('Explained Variance', ascending=False)\n",
    "model_eval"
   ]
  },
  {
   "cell_type": "markdown",
   "metadata": {},
   "source": [
    "- Explained Variance:  best score is 1.0, highest value is best.\n",
    "- MSE:  lowest value is best.\n",
    "\n",
    "- ** Random Forest wins **  It still has a bias toward underforecasting the PM 2.5 by 0.37 ug/m3, but this is very small compared to the average value (98.6 ug/m3)"
   ]
  }
 ],
 "metadata": {
  "kernelspec": {
   "display_name": "Python 3",
   "language": "python",
   "name": "python3"
  },
  "language_info": {
   "codemirror_mode": {
    "name": "ipython",
    "version": 3
   },
   "file_extension": ".py",
   "mimetype": "text/x-python",
   "name": "python",
   "nbconvert_exporter": "python",
   "pygments_lexer": "ipython3",
   "version": "3.6.1"
  }
 },
 "nbformat": 4,
 "nbformat_minor": 2
}
